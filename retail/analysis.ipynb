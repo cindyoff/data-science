{
 "cells": [
  {
   "cell_type": "code",
   "execution_count": 2,
   "id": "44bc325e",
   "metadata": {},
   "outputs": [],
   "source": [
    "# packages\n",
    "import pandas as pd\n",
    "import numpy as np\n",
    "import matplotlib.pyplot as plt"
   ]
  },
  {
   "cell_type": "code",
   "execution_count": 4,
   "id": "c3d268ff",
   "metadata": {},
   "outputs": [
    {
     "name": "stdout",
     "output_type": "stream",
     "text": [
      "  InvoiceNo StockCode                          Description  Quantity  \\\n",
      "0    536365    85123A   WHITE HANGING HEART T-LIGHT HOLDER         6   \n",
      "1    536365     71053                  WHITE METAL LANTERN         6   \n",
      "2    536365    84406B       CREAM CUPID HEARTS COAT HANGER         8   \n",
      "3    536365    84029G  KNITTED UNION FLAG HOT WATER BOTTLE         6   \n",
      "4    536365    84029E       RED WOOLLY HOTTIE WHITE HEART.         6   \n",
      "\n",
      "          InvoiceDate  UnitPrice  CustomerID         Country  \n",
      "0 2010-12-01 08:26:00       2.55     17850.0  United Kingdom  \n",
      "1 2010-12-01 08:26:00       3.39     17850.0  United Kingdom  \n",
      "2 2010-12-01 08:26:00       2.75     17850.0  United Kingdom  \n",
      "3 2010-12-01 08:26:00       3.39     17850.0  United Kingdom  \n",
      "4 2010-12-01 08:26:00       3.39     17850.0  United Kingdom  \n",
      "<class 'pandas.core.frame.DataFrame'>\n",
      "RangeIndex: 541909 entries, 0 to 541908\n",
      "Data columns (total 8 columns):\n",
      " #   Column       Non-Null Count   Dtype         \n",
      "---  ------       --------------   -----         \n",
      " 0   InvoiceNo    541909 non-null  object        \n",
      " 1   StockCode    541909 non-null  object        \n",
      " 2   Description  540455 non-null  object        \n",
      " 3   Quantity     541909 non-null  int64         \n",
      " 4   InvoiceDate  541909 non-null  datetime64[ns]\n",
      " 5   UnitPrice    541909 non-null  float64       \n",
      " 6   CustomerID   406829 non-null  float64       \n",
      " 7   Country      541909 non-null  object        \n",
      "dtypes: datetime64[ns](1), float64(2), int64(1), object(4)\n",
      "memory usage: 33.1+ MB\n",
      "None\n"
     ]
    }
   ],
   "source": [
    "# import data\n",
    "df = pd.read_excel(\"online_retail.xlsx\")\n",
    "print(df.head())\n",
    "print(df.info())"
   ]
  },
  {
   "cell_type": "code",
   "execution_count": null,
   "id": "2d42b5c1",
   "metadata": {},
   "outputs": [
    {
     "name": "stdout",
     "output_type": "stream",
     "text": [
      "0\n",
      "InvoiceNo: 0 missing values\n",
      "StockCode: 0 missing values\n",
      "Description: 1454 missing values\n",
      "Quantity: 0 missing values\n",
      "InvoiceDate: 0 missing values\n",
      "UnitPrice: 0 missing values\n",
      "CustomerID: 135080 missing values\n",
      "Country: 0 missing values\n"
     ]
    }
   ],
   "source": [
    "# data cleaning - missing values\n",
    "for col in df.columns:\n",
    "    print(f\"{col}: {df[col].isnull().sum()} missing values\")"
   ]
  },
  {
   "cell_type": "markdown",
   "id": "a7463d30",
   "metadata": {},
   "source": [
    "CustomerID and Description are the only two variables with missing values"
   ]
  },
  {
   "cell_type": "code",
   "execution_count": 13,
   "id": "ac972b13",
   "metadata": {},
   "outputs": [
    {
     "name": "stdout",
     "output_type": "stream",
     "text": [
      "Total number of records : 541909\n",
      "Percentage of missing CustomerID : 24.93%\n"
     ]
    }
   ],
   "source": [
    "# closer look at CustomerID missing values\n",
    "number_missing = df[\"CustomerID\"].isnull().sum()\n",
    "total = len(df)\n",
    "print(f\"Total number of records : {total}\")\n",
    "percentage_missing = (number_missing / total) * 100\n",
    "print(f\"Percentage of missing CustomerID : {percentage_missing:.2f}%\")"
   ]
  },
  {
   "cell_type": "markdown",
   "id": "d388f8fd",
   "metadata": {},
   "source": [
    "24.93% of the values in CustomerID are missing. Further analysis on customer's behaviour would be difficult without their own customer ID, therefore the missing values are going to be removed. "
   ]
  },
  {
   "cell_type": "code",
   "execution_count": 16,
   "id": "6b3db653",
   "metadata": {},
   "outputs": [
    {
     "name": "stdout",
     "output_type": "stream",
     "text": [
      "<class 'pandas.core.frame.DataFrame'>\n",
      "Index: 406829 entries, 0 to 541908\n",
      "Data columns (total 8 columns):\n",
      " #   Column       Non-Null Count   Dtype         \n",
      "---  ------       --------------   -----         \n",
      " 0   InvoiceNo    406829 non-null  object        \n",
      " 1   StockCode    406829 non-null  object        \n",
      " 2   Description  406829 non-null  object        \n",
      " 3   Quantity     406829 non-null  int64         \n",
      " 4   InvoiceDate  406829 non-null  datetime64[ns]\n",
      " 5   UnitPrice    406829 non-null  float64       \n",
      " 6   CustomerID   406829 non-null  float64       \n",
      " 7   Country      406829 non-null  object        \n",
      "dtypes: datetime64[ns](1), float64(2), int64(1), object(4)\n",
      "memory usage: 27.9+ MB\n",
      "None\n",
      "  InvoiceNo StockCode                          Description  Quantity  \\\n",
      "0    536365    85123A   WHITE HANGING HEART T-LIGHT HOLDER         6   \n",
      "1    536365     71053                  WHITE METAL LANTERN         6   \n",
      "2    536365    84406B       CREAM CUPID HEARTS COAT HANGER         8   \n",
      "3    536365    84029G  KNITTED UNION FLAG HOT WATER BOTTLE         6   \n",
      "4    536365    84029E       RED WOOLLY HOTTIE WHITE HEART.         6   \n",
      "\n",
      "          InvoiceDate  UnitPrice  CustomerID         Country  \n",
      "0 2010-12-01 08:26:00       2.55     17850.0  United Kingdom  \n",
      "1 2010-12-01 08:26:00       3.39     17850.0  United Kingdom  \n",
      "2 2010-12-01 08:26:00       2.75     17850.0  United Kingdom  \n",
      "3 2010-12-01 08:26:00       3.39     17850.0  United Kingdom  \n",
      "4 2010-12-01 08:26:00       3.39     17850.0  United Kingdom  \n",
      "New total number of records : 406829\n"
     ]
    }
   ],
   "source": [
    "# deleting missing values in CustomerID\n",
    "df = df.dropna(subset=['CustomerID'])\n",
    "print(df.info())\n",
    "print(df.head())\n",
    "print(f\"New total number of records : {len(df)}\")"
   ]
  },
  {
   "cell_type": "code",
   "execution_count": null,
   "id": "e8d76480",
   "metadata": {},
   "outputs": [
    {
     "name": "stdout",
     "output_type": "stream",
     "text": [
      "InvoiceNo: 0 missing values\n",
      "StockCode: 0 missing values\n",
      "Description: 0 missing values\n",
      "Quantity: 0 missing values\n",
      "InvoiceDate: 0 missing values\n",
      "UnitPrice: 0 missing values\n",
      "CustomerID: 0 missing values\n",
      "Country: 0 missing values\n"
     ]
    }
   ],
   "source": [
    "# checking for other missing values\n",
    "for col in df.columns:\n",
    "    print(f\"{col}: {df[col].isnull().sum()} missing values\")"
   ]
  },
  {
   "cell_type": "markdown",
   "id": "fc097550",
   "metadata": {},
   "source": [
    "No other missing values in the dataset. Now, Description does not have any missing values. "
   ]
  },
  {
   "cell_type": "code",
   "execution_count": 18,
   "id": "51688182",
   "metadata": {},
   "outputs": [
    {
     "name": "stdout",
     "output_type": "stream",
     "text": [
      "InvoiceNo: 22190 unique values\n",
      "StockCode: 3684 unique values\n",
      "Description: 3896 unique values\n",
      "Quantity: 436 unique values\n",
      "InvoiceDate: 20460 unique values\n",
      "UnitPrice: 620 unique values\n",
      "CustomerID: 4372 unique values\n",
      "Country: 37 unique values\n",
      "InvoiceNo unique values: [536365 536366 536367 536368 536369]...\n",
      "StockCode unique values: ['85123A' 71053 '84406B' '84029G' '84029E']...\n",
      "Description unique values: ['WHITE HANGING HEART T-LIGHT HOLDER' 'WHITE METAL LANTERN'\n",
      " 'CREAM CUPID HEARTS COAT HANGER' 'KNITTED UNION FLAG HOT WATER BOTTLE'\n",
      " 'RED WOOLLY HOTTIE WHITE HEART.']...\n",
      "Quantity unique values: [ 6  8  2 32  3]...\n",
      "InvoiceDate unique values: <DatetimeArray>\n",
      "['2010-12-01 08:26:00', '2010-12-01 08:28:00', '2010-12-01 08:34:00',\n",
      " '2010-12-01 08:35:00', '2010-12-01 08:45:00']\n",
      "Length: 5, dtype: datetime64[ns]...\n",
      "UnitPrice unique values: [2.55 3.39 2.75 7.65 4.25]...\n",
      "CustomerID unique values: [17850. 13047. 12583. 13748. 15100.]...\n",
      "Country unique values: ['United Kingdom' 'France' 'Australia' 'Netherlands' 'Germany']...\n"
     ]
    }
   ],
   "source": [
    "# unique features in the variables \n",
    "for col in df.columns:\n",
    "    unique_values = df[col].nunique()\n",
    "    print(f\"{col}: {unique_values} unique values\")\n",
    "\n",
    "for col in df.columns:\n",
    "    unique_values = df[col].unique()\n",
    "    print(f\"{col} unique values: {unique_values[:5]}...\")  # Displaying only first 5 unique values for brevity"
   ]
  },
  {
   "cell_type": "markdown",
   "id": "b2b56833",
   "metadata": {},
   "source": [
    "From that, a variety of customers and therefore a variety of purchasing behaviour. "
   ]
  },
  {
   "cell_type": "code",
   "execution_count": 19,
   "id": "cb0fd833",
   "metadata": {},
   "outputs": [
    {
     "name": "stdout",
     "output_type": "stream",
     "text": [
      "Number of duplicate records: 5225\n"
     ]
    }
   ],
   "source": [
    "# checking duplicates\n",
    "duplicates = df.duplicated().sum()\n",
    "print(f\"Number of duplicate records: {duplicates}\")"
   ]
  },
  {
   "cell_type": "code",
   "execution_count": 20,
   "id": "f5f50af6",
   "metadata": {},
   "outputs": [
    {
     "name": "stdout",
     "output_type": "stream",
     "text": [
      "New total number of records after removing duplicates: 401604\n"
     ]
    }
   ],
   "source": [
    "# removing duplicates\n",
    "df = df.drop_duplicates()\n",
    "print(f\"New total number of records after removing duplicates: {len(df)}\")"
   ]
  },
  {
   "cell_type": "code",
   "execution_count": 21,
   "id": "8298f6de",
   "metadata": {},
   "outputs": [
    {
     "name": "stdout",
     "output_type": "stream",
     "text": [
      "  InvoiceNo StockCode                          Description  Quantity  \\\n",
      "0    536365    85123A   WHITE HANGING HEART T-LIGHT HOLDER         6   \n",
      "1    536365     71053                  WHITE METAL LANTERN         6   \n",
      "2    536365    84406B       CREAM CUPID HEARTS COAT HANGER         8   \n",
      "3    536365    84029G  KNITTED UNION FLAG HOT WATER BOTTLE         6   \n",
      "4    536365    84029E       RED WOOLLY HOTTIE WHITE HEART.         6   \n",
      "\n",
      "          InvoiceDate  UnitPrice  CustomerID         Country  \n",
      "0 2010-12-01 08:26:00       2.55     17850.0  United Kingdom  \n",
      "1 2010-12-01 08:26:00       3.39     17850.0  United Kingdom  \n",
      "2 2010-12-01 08:26:00       2.75     17850.0  United Kingdom  \n",
      "3 2010-12-01 08:26:00       3.39     17850.0  United Kingdom  \n",
      "4 2010-12-01 08:26:00       3.39     17850.0  United Kingdom  \n"
     ]
    }
   ],
   "source": [
    "print(df.head())"
   ]
  },
  {
   "cell_type": "code",
   "execution_count": null,
   "id": "9d474525",
   "metadata": {},
   "outputs": [
    {
     "name": "stdout",
     "output_type": "stream",
     "text": [
      "Number of negative quantities : 8872\n"
     ]
    }
   ],
   "source": [
    "# checking for negative quantities\n",
    "negative_quantities = df[df['Quantity'] < 0]\n",
    "print(f\"Number of negative quantities : {len(negative_quantities)}\")"
   ]
  },
  {
   "cell_type": "markdown",
   "id": "4f7601b0",
   "metadata": {},
   "source": [
    "Negative quantities refer to returns made by customers."
   ]
  },
  {
   "cell_type": "code",
   "execution_count": 27,
   "id": "69ea082f",
   "metadata": {},
   "outputs": [
    {
     "name": "stdout",
     "output_type": "stream",
     "text": [
      "Number of positive quantities : 392732\n"
     ]
    }
   ],
   "source": [
    "# checking for positive quantites, in opposition to negative quantities\n",
    "positive_quantities = df[df['Quantity'] > 0]\n",
    "print(f\"Number of positive quantities : {len(positive_quantities)}\")"
   ]
  },
  {
   "cell_type": "code",
   "execution_count": 29,
   "id": "0116c191",
   "metadata": {},
   "outputs": [
    {
     "name": "stdout",
     "output_type": "stream",
     "text": [
      "Ratio of positive to negative quantities: 44.27%\n"
     ]
    }
   ],
   "source": [
    "# ratio of positive to negative quantities\n",
    "ratio = len(positive_quantities) / len(negative_quantities)\n",
    "print(f\"Ratio of positive to negative quantities: {ratio:.2f}%\")"
   ]
  },
  {
   "cell_type": "markdown",
   "id": "df407bcb",
   "metadata": {},
   "source": [
    "The number of positive quantities (purchase) outweighs the total number of negative quantities (returns)."
   ]
  },
  {
   "cell_type": "code",
   "execution_count": null,
   "id": "f69c986d",
   "metadata": {},
   "outputs": [
    {
     "name": "stdout",
     "output_type": "stream",
     "text": [
      "['United Kingdom' 'France' 'Australia' 'Netherlands' 'Germany' 'Norway'\n",
      " 'EIRE' 'Switzerland' 'Spain' 'Poland' 'Portugal' 'Italy' 'Belgium'\n",
      " 'Lithuania' 'Japan' 'Iceland' 'Channel Islands' 'Denmark' 'Cyprus'\n",
      " 'Sweden' 'Austria' 'Israel' 'Finland' 'Greece' 'Singapore' 'Lebanon'\n",
      " 'United Arab Emirates' 'Saudi Arabia' 'Czech Republic' 'Canada'\n",
      " 'Unspecified' 'Brazil' 'USA' 'European Community' 'Bahrain' 'Malta' 'RSA']\n"
     ]
    }
   ],
   "source": [
    "# countries in the dataset\n",
    "print(df[\"Country\"].unique())"
   ]
  },
  {
   "cell_type": "code",
   "execution_count": 31,
   "id": "ff2fdd38",
   "metadata": {},
   "outputs": [],
   "source": [
    "# gathering the countries by continent\n",
    "if \"Continent\" not in df.columns:\n",
    "    country_to_continent = {\n",
    "        \"United Kingdom\": \"Europe\",\n",
    "        \"France\": \"Europe\",\n",
    "        \"Australia\": \"Oceania\",\n",
    "        \"Netherlands\": \"Europe\",\n",
    "        \"Germany\": \"Europe\",\n",
    "        \"Norway\": \"Europe\",\n",
    "        \"EIRE\": \"Europe\",\n",
    "        \"Switzerland\": \"Europe\",\n",
    "        \"Spain\": \"Europe\",\n",
    "        \"Poland\": \"Europe\",\n",
    "        \"Portugal\": \"Europe\",\n",
    "        \"Italy\": \"Europe\",\n",
    "        \"Belgium\": \"Europe\",\n",
    "        \"Lithuania\": \"Europe\",\n",
    "        \"Japan\": \"Asia\",\n",
    "        \"Iceland\": \"Europe\",\n",
    "        \"Channel Islands\": \"Europe\",\n",
    "        \"Denmark\": \"Europe\",\n",
    "        \"Cyprus\": \"Europe\",\n",
    "        \"Sweden\": \"Europe\",\n",
    "        \"Austria\": \"Europe\",\n",
    "        \"Israel\": \"Asia\",\n",
    "        \"Finland\": \"Europe\",\n",
    "        \"Greece\": \"Europe\",\n",
    "        \"Singapore\": \"Asia\",\n",
    "        \"Lebanon\": \"Asia\",\n",
    "        \"United Arab Emirates\": \"Asia\",\n",
    "        \"Saudi Arabia\": \"Asia\",\n",
    "        \"Czech Republic\": \"Europe\",\n",
    "        \"Canada\": \"North America\",\n",
    "        \"Unspecified\": \"Other\", \n",
    "        \"Brazil\": \"South America\",\n",
    "        \"USA\": \"North America\",\n",
    "        \"European Community\": \"Europe\", \n",
    "        \"Bahrain\": \"Asia\",\n",
    "        \"Malta\": \"Europe\",\n",
    "        \"RSA\": \"Africa\"\n",
    "    }\n",
    "    \n",
    "    df['Continent'] = df['Country'].map(country_to_continent).fillna('Other')"
   ]
  },
  {
   "cell_type": "code",
   "execution_count": 32,
   "id": "86ed93be",
   "metadata": {},
   "outputs": [
    {
     "name": "stdout",
     "output_type": "stream",
     "text": [
      "Europe: 398599 records\n",
      "Oceania: 1258 records\n",
      "Asia: 974 records\n",
      "North America: 442 records\n",
      "Other: 241 records\n",
      "South America: 32 records\n",
      "Africa: 58 records\n"
     ]
    }
   ],
   "source": [
    "# checking for continents\n",
    "for continent in df[\"Continent\"].unique():\n",
    "    count = len(df[df[\"Continent\"] == continent])\n",
    "    print(f\"{continent}: {count} records\")"
   ]
  }
 ],
 "metadata": {
  "kernelspec": {
   "display_name": "base",
   "language": "python",
   "name": "python3"
  },
  "language_info": {
   "codemirror_mode": {
    "name": "ipython",
    "version": 3
   },
   "file_extension": ".py",
   "mimetype": "text/x-python",
   "name": "python",
   "nbconvert_exporter": "python",
   "pygments_lexer": "ipython3",
   "version": "3.11.7"
  }
 },
 "nbformat": 4,
 "nbformat_minor": 5
}
