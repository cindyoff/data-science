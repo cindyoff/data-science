{
 "cells": [
  {
   "cell_type": "code",
   "execution_count": 1,
   "id": "44bc325e",
   "metadata": {},
   "outputs": [],
   "source": [
    "# packages\n",
    "import pandas as pd\n",
    "import numpy as np\n",
    "import matplotlib.pyplot as plt"
   ]
  },
  {
   "cell_type": "code",
   "execution_count": 2,
   "id": "c3d268ff",
   "metadata": {},
   "outputs": [
    {
     "name": "stdout",
     "output_type": "stream",
     "text": [
      "  InvoiceNo StockCode                          Description  Quantity  \\\n",
      "0    536365    85123A   WHITE HANGING HEART T-LIGHT HOLDER         6   \n",
      "1    536365     71053                  WHITE METAL LANTERN         6   \n",
      "2    536365    84406B       CREAM CUPID HEARTS COAT HANGER         8   \n",
      "3    536365    84029G  KNITTED UNION FLAG HOT WATER BOTTLE         6   \n",
      "4    536365    84029E       RED WOOLLY HOTTIE WHITE HEART.         6   \n",
      "\n",
      "          InvoiceDate  UnitPrice  CustomerID         Country  \n",
      "0 2010-12-01 08:26:00       2.55     17850.0  United Kingdom  \n",
      "1 2010-12-01 08:26:00       3.39     17850.0  United Kingdom  \n",
      "2 2010-12-01 08:26:00       2.75     17850.0  United Kingdom  \n",
      "3 2010-12-01 08:26:00       3.39     17850.0  United Kingdom  \n",
      "4 2010-12-01 08:26:00       3.39     17850.0  United Kingdom  \n",
      "<class 'pandas.core.frame.DataFrame'>\n",
      "RangeIndex: 541909 entries, 0 to 541908\n",
      "Data columns (total 8 columns):\n",
      " #   Column       Non-Null Count   Dtype         \n",
      "---  ------       --------------   -----         \n",
      " 0   InvoiceNo    541909 non-null  object        \n",
      " 1   StockCode    541909 non-null  object        \n",
      " 2   Description  540455 non-null  object        \n",
      " 3   Quantity     541909 non-null  int64         \n",
      " 4   InvoiceDate  541909 non-null  datetime64[ns]\n",
      " 5   UnitPrice    541909 non-null  float64       \n",
      " 6   CustomerID   406829 non-null  float64       \n",
      " 7   Country      541909 non-null  object        \n",
      "dtypes: datetime64[ns](1), float64(2), int64(1), object(4)\n",
      "memory usage: 33.1+ MB\n",
      "None\n"
     ]
    }
   ],
   "source": [
    "# import data\n",
    "df = pd.read_excel(\"online_retail.xlsx\")\n",
    "print(df.head())\n",
    "print(df.info())"
   ]
  },
  {
   "cell_type": "code",
   "execution_count": 3,
   "id": "2d42b5c1",
   "metadata": {},
   "outputs": [
    {
     "name": "stdout",
     "output_type": "stream",
     "text": [
      "InvoiceNo: 0 missing values\n",
      "StockCode: 0 missing values\n",
      "Description: 1454 missing values\n",
      "Quantity: 0 missing values\n",
      "InvoiceDate: 0 missing values\n",
      "UnitPrice: 0 missing values\n",
      "CustomerID: 135080 missing values\n",
      "Country: 0 missing values\n"
     ]
    }
   ],
   "source": [
    "# data cleaning - missing values\n",
    "for col in df.columns:\n",
    "    print(f\"{col}: {df[col].isnull().sum()} missing values\")"
   ]
  },
  {
   "cell_type": "markdown",
   "id": "a7463d30",
   "metadata": {},
   "source": [
    "CustomerID and Description are the only two variables with missing values"
   ]
  },
  {
   "cell_type": "code",
   "execution_count": 4,
   "id": "ac972b13",
   "metadata": {},
   "outputs": [
    {
     "name": "stdout",
     "output_type": "stream",
     "text": [
      "Total number of records : 541909\n",
      "Percentage of missing CustomerID : 24.93%\n"
     ]
    }
   ],
   "source": [
    "# closer look at CustomerID missing values\n",
    "number_missing = df[\"CustomerID\"].isnull().sum()\n",
    "total = len(df)\n",
    "print(f\"Total number of records : {total}\")\n",
    "percentage_missing = (number_missing / total) * 100\n",
    "print(f\"Percentage of missing CustomerID : {percentage_missing:.2f}%\")"
   ]
  },
  {
   "cell_type": "markdown",
   "id": "d388f8fd",
   "metadata": {},
   "source": [
    "24.93% of the values in CustomerID are missing. Further analysis on customer's behaviour would be difficult without their own customer ID, therefore the missing values are going to be removed. "
   ]
  },
  {
   "cell_type": "code",
   "execution_count": 5,
   "id": "6b3db653",
   "metadata": {},
   "outputs": [
    {
     "name": "stdout",
     "output_type": "stream",
     "text": [
      "<class 'pandas.core.frame.DataFrame'>\n",
      "Index: 406829 entries, 0 to 541908\n",
      "Data columns (total 8 columns):\n",
      " #   Column       Non-Null Count   Dtype         \n",
      "---  ------       --------------   -----         \n",
      " 0   InvoiceNo    406829 non-null  object        \n",
      " 1   StockCode    406829 non-null  object        \n",
      " 2   Description  406829 non-null  object        \n",
      " 3   Quantity     406829 non-null  int64         \n",
      " 4   InvoiceDate  406829 non-null  datetime64[ns]\n",
      " 5   UnitPrice    406829 non-null  float64       \n",
      " 6   CustomerID   406829 non-null  float64       \n",
      " 7   Country      406829 non-null  object        \n",
      "dtypes: datetime64[ns](1), float64(2), int64(1), object(4)\n",
      "memory usage: 27.9+ MB\n",
      "None\n",
      "  InvoiceNo StockCode                          Description  Quantity  \\\n",
      "0    536365    85123A   WHITE HANGING HEART T-LIGHT HOLDER         6   \n",
      "1    536365     71053                  WHITE METAL LANTERN         6   \n",
      "2    536365    84406B       CREAM CUPID HEARTS COAT HANGER         8   \n",
      "3    536365    84029G  KNITTED UNION FLAG HOT WATER BOTTLE         6   \n",
      "4    536365    84029E       RED WOOLLY HOTTIE WHITE HEART.         6   \n",
      "\n",
      "          InvoiceDate  UnitPrice  CustomerID         Country  \n",
      "0 2010-12-01 08:26:00       2.55     17850.0  United Kingdom  \n",
      "1 2010-12-01 08:26:00       3.39     17850.0  United Kingdom  \n",
      "2 2010-12-01 08:26:00       2.75     17850.0  United Kingdom  \n",
      "3 2010-12-01 08:26:00       3.39     17850.0  United Kingdom  \n",
      "4 2010-12-01 08:26:00       3.39     17850.0  United Kingdom  \n",
      "New total number of records : 406829\n"
     ]
    }
   ],
   "source": [
    "# deleting missing values in CustomerID\n",
    "df = df.dropna(subset=['CustomerID'])\n",
    "print(df.info())\n",
    "print(df.head())\n",
    "print(f\"New total number of records : {len(df)}\")"
   ]
  },
  {
   "cell_type": "code",
   "execution_count": 6,
   "id": "e8d76480",
   "metadata": {},
   "outputs": [
    {
     "name": "stdout",
     "output_type": "stream",
     "text": [
      "InvoiceNo: 0 missing values\n",
      "StockCode: 0 missing values\n",
      "Description: 0 missing values\n",
      "Quantity: 0 missing values\n",
      "InvoiceDate: 0 missing values\n",
      "UnitPrice: 0 missing values\n",
      "CustomerID: 0 missing values\n",
      "Country: 0 missing values\n"
     ]
    }
   ],
   "source": [
    "# checking for other missing values\n",
    "for col in df.columns:\n",
    "    print(f\"{col}: {df[col].isnull().sum()} missing values\")"
   ]
  },
  {
   "cell_type": "markdown",
   "id": "fc097550",
   "metadata": {},
   "source": [
    "No other missing values in the dataset. Now, Description does not have any missing values. "
   ]
  },
  {
   "cell_type": "code",
   "execution_count": null,
   "id": "51688182",
   "metadata": {},
   "outputs": [
    {
     "name": "stdout",
     "output_type": "stream",
     "text": [
      "InvoiceNo: 22190 unique values\n",
      "StockCode: 3684 unique values\n",
      "Description: 3896 unique values\n",
      "Quantity: 436 unique values\n",
      "InvoiceDate: 20460 unique values\n",
      "UnitPrice: 620 unique values\n",
      "CustomerID: 4372 unique values\n",
      "Country: 37 unique values\n",
      "InvoiceNo unique values: [536365 536366 536367 536368 536369]...\n",
      "StockCode unique values: ['85123A' 71053 '84406B' '84029G' '84029E']...\n",
      "Description unique values: ['WHITE HANGING HEART T-LIGHT HOLDER' 'WHITE METAL LANTERN'\n",
      " 'CREAM CUPID HEARTS COAT HANGER' 'KNITTED UNION FLAG HOT WATER BOTTLE'\n",
      " 'RED WOOLLY HOTTIE WHITE HEART.']...\n",
      "Quantity unique values: [ 6  8  2 32  3]...\n",
      "InvoiceDate unique values: <DatetimeArray>\n",
      "['2010-12-01 08:26:00', '2010-12-01 08:28:00', '2010-12-01 08:34:00',\n",
      " '2010-12-01 08:35:00', '2010-12-01 08:45:00']\n",
      "Length: 5, dtype: datetime64[ns]...\n",
      "UnitPrice unique values: [2.55 3.39 2.75 7.65 4.25]...\n",
      "CustomerID unique values: [17850. 13047. 12583. 13748. 15100.]...\n",
      "Country unique values: ['United Kingdom' 'France' 'Australia' 'Netherlands' 'Germany']...\n"
     ]
    }
   ],
   "source": [
    "# unique features in the variables \n",
    "for col in df.columns:\n",
    "    unique_values = df[col].nunique()\n",
    "    print(f\"{col}: {unique_values} unique values\")\n",
    "\n",
    "for col in df.columns:\n",
    "    unique_values = df[col].unique()\n",
    "    print(f\"{col} unique values: {unique_values[:5]}...\")  # displaying only first 5 unique values"
   ]
  },
  {
   "cell_type": "markdown",
   "id": "b2b56833",
   "metadata": {},
   "source": [
    "From that, a variety of customers and therefore a variety of purchasing behaviour. "
   ]
  },
  {
   "cell_type": "code",
   "execution_count": 8,
   "id": "cb0fd833",
   "metadata": {},
   "outputs": [
    {
     "name": "stdout",
     "output_type": "stream",
     "text": [
      "Number of duplicate records: 5225\n"
     ]
    }
   ],
   "source": [
    "# checking duplicates\n",
    "duplicates = df.duplicated().sum()\n",
    "print(f\"Number of duplicate records: {duplicates}\")"
   ]
  },
  {
   "cell_type": "code",
   "execution_count": 9,
   "id": "f5f50af6",
   "metadata": {},
   "outputs": [
    {
     "name": "stdout",
     "output_type": "stream",
     "text": [
      "New total number of records after removing duplicates: 401604\n"
     ]
    }
   ],
   "source": [
    "# removing duplicates\n",
    "df = df.drop_duplicates()\n",
    "print(f\"New total number of records after removing duplicates: {len(df)}\")"
   ]
  },
  {
   "cell_type": "code",
   "execution_count": 10,
   "id": "8298f6de",
   "metadata": {},
   "outputs": [
    {
     "name": "stdout",
     "output_type": "stream",
     "text": [
      "  InvoiceNo StockCode                          Description  Quantity  \\\n",
      "0    536365    85123A   WHITE HANGING HEART T-LIGHT HOLDER         6   \n",
      "1    536365     71053                  WHITE METAL LANTERN         6   \n",
      "2    536365    84406B       CREAM CUPID HEARTS COAT HANGER         8   \n",
      "3    536365    84029G  KNITTED UNION FLAG HOT WATER BOTTLE         6   \n",
      "4    536365    84029E       RED WOOLLY HOTTIE WHITE HEART.         6   \n",
      "\n",
      "          InvoiceDate  UnitPrice  CustomerID         Country  \n",
      "0 2010-12-01 08:26:00       2.55     17850.0  United Kingdom  \n",
      "1 2010-12-01 08:26:00       3.39     17850.0  United Kingdom  \n",
      "2 2010-12-01 08:26:00       2.75     17850.0  United Kingdom  \n",
      "3 2010-12-01 08:26:00       3.39     17850.0  United Kingdom  \n",
      "4 2010-12-01 08:26:00       3.39     17850.0  United Kingdom  \n"
     ]
    }
   ],
   "source": [
    "print(df.head())"
   ]
  },
  {
   "cell_type": "code",
   "execution_count": 11,
   "id": "9d474525",
   "metadata": {},
   "outputs": [
    {
     "name": "stdout",
     "output_type": "stream",
     "text": [
      "Number of negative quantities : 8872\n"
     ]
    }
   ],
   "source": [
    "# checking for negative quantities\n",
    "negative_quantities = df[df['Quantity'] < 0]\n",
    "print(f\"Number of negative quantities : {len(negative_quantities)}\")"
   ]
  },
  {
   "cell_type": "markdown",
   "id": "4f7601b0",
   "metadata": {},
   "source": [
    "Negative quantities refer to returns made by customers."
   ]
  },
  {
   "cell_type": "code",
   "execution_count": 12,
   "id": "69ea082f",
   "metadata": {},
   "outputs": [
    {
     "name": "stdout",
     "output_type": "stream",
     "text": [
      "Number of positive quantities : 392732\n"
     ]
    }
   ],
   "source": [
    "# checking for positive quantites, in opposition to negative quantities\n",
    "positive_quantities = df[df['Quantity'] > 0]\n",
    "print(f\"Number of positive quantities : {len(positive_quantities)}\")"
   ]
  },
  {
   "cell_type": "code",
   "execution_count": 13,
   "id": "0116c191",
   "metadata": {},
   "outputs": [
    {
     "name": "stdout",
     "output_type": "stream",
     "text": [
      "Ratio of positive to negative quantities: 44.27%\n"
     ]
    }
   ],
   "source": [
    "# ratio of positive to negative quantities\n",
    "ratio = len(positive_quantities) / len(negative_quantities)\n",
    "print(f\"Ratio of positive to negative quantities: {ratio:.2f}%\")"
   ]
  },
  {
   "cell_type": "markdown",
   "id": "df407bcb",
   "metadata": {},
   "source": [
    "The number of positive quantities (purchase) outweighs the total number of negative quantities (returns)."
   ]
  },
  {
   "cell_type": "code",
   "execution_count": 14,
   "id": "f69c986d",
   "metadata": {},
   "outputs": [
    {
     "name": "stdout",
     "output_type": "stream",
     "text": [
      "['United Kingdom' 'France' 'Australia' 'Netherlands' 'Germany' 'Norway'\n",
      " 'EIRE' 'Switzerland' 'Spain' 'Poland' 'Portugal' 'Italy' 'Belgium'\n",
      " 'Lithuania' 'Japan' 'Iceland' 'Channel Islands' 'Denmark' 'Cyprus'\n",
      " 'Sweden' 'Austria' 'Israel' 'Finland' 'Greece' 'Singapore' 'Lebanon'\n",
      " 'United Arab Emirates' 'Saudi Arabia' 'Czech Republic' 'Canada'\n",
      " 'Unspecified' 'Brazil' 'USA' 'European Community' 'Bahrain' 'Malta' 'RSA']\n"
     ]
    }
   ],
   "source": [
    "# countries in the dataset\n",
    "print(df[\"Country\"].unique())"
   ]
  },
  {
   "cell_type": "code",
   "execution_count": null,
   "id": "ff2fdd38",
   "metadata": {},
   "outputs": [],
   "source": [
    "# gathering the countries by continent - new variable Continent\n",
    "if \"Continent\" not in df.columns:\n",
    "    country_to_continent = {\n",
    "        \"United Kingdom\": \"Europe\",\n",
    "        \"France\": \"Europe\",\n",
    "        \"Australia\": \"Oceania\",\n",
    "        \"Netherlands\": \"Europe\",\n",
    "        \"Germany\": \"Europe\",\n",
    "        \"Norway\": \"Europe\",\n",
    "        \"EIRE\": \"Europe\",\n",
    "        \"Switzerland\": \"Europe\",\n",
    "        \"Spain\": \"Europe\",\n",
    "        \"Poland\": \"Europe\",\n",
    "        \"Portugal\": \"Europe\",\n",
    "        \"Italy\": \"Europe\",\n",
    "        \"Belgium\": \"Europe\",\n",
    "        \"Lithuania\": \"Europe\",\n",
    "        \"Japan\": \"Asia\",\n",
    "        \"Iceland\": \"Europe\",\n",
    "        \"Channel Islands\": \"Europe\",\n",
    "        \"Denmark\": \"Europe\",\n",
    "        \"Cyprus\": \"Europe\",\n",
    "        \"Sweden\": \"Europe\",\n",
    "        \"Austria\": \"Europe\",\n",
    "        \"Israel\": \"Asia\",\n",
    "        \"Finland\": \"Europe\",\n",
    "        \"Greece\": \"Europe\",\n",
    "        \"Singapore\": \"Asia\",\n",
    "        \"Lebanon\": \"Asia\",\n",
    "        \"United Arab Emirates\": \"Asia\",\n",
    "        \"Saudi Arabia\": \"Asia\",\n",
    "        \"Czech Republic\": \"Europe\",\n",
    "        \"Canada\": \"North America\",\n",
    "        \"Unspecified\": \"Other\", \n",
    "        \"Brazil\": \"South America\",\n",
    "        \"USA\": \"North America\",\n",
    "        \"European Community\": \"Europe\", \n",
    "        \"Bahrain\": \"Asia\",\n",
    "        \"Malta\": \"Europe\",\n",
    "        \"RSA\": \"Africa\"\n",
    "    }\n",
    "    \n",
    "    df['Continent'] = df['Country'].map(country_to_continent).fillna('Other')"
   ]
  },
  {
   "cell_type": "code",
   "execution_count": 16,
   "id": "86ed93be",
   "metadata": {},
   "outputs": [
    {
     "name": "stdout",
     "output_type": "stream",
     "text": [
      "Europe: 398599 records\n",
      "Oceania: 1258 records\n",
      "Asia: 974 records\n",
      "North America: 442 records\n",
      "Other: 241 records\n",
      "South America: 32 records\n",
      "Africa: 58 records\n"
     ]
    }
   ],
   "source": [
    "# checking for continents\n",
    "for continent in df[\"Continent\"].unique():\n",
    "    count = len(df[df[\"Continent\"] == continent])\n",
    "    print(f\"{continent}: {count} records\")"
   ]
  },
  {
   "cell_type": "markdown",
   "id": "762134ce",
   "metadata": {},
   "source": [
    "Associating each country with its continent will allow us an analysis per continent. "
   ]
  },
  {
   "cell_type": "code",
   "execution_count": 22,
   "id": "efd1dd11",
   "metadata": {},
   "outputs": [
    {
     "name": "stdout",
     "output_type": "stream",
     "text": [
      "0    15.30\n",
      "1    20.34\n",
      "2    22.00\n",
      "3    20.34\n",
      "4    20.34\n",
      "Name: TotalSales, dtype: float64\n",
      "<class 'pandas.core.frame.DataFrame'>\n",
      "Index: 401604 entries, 0 to 541908\n",
      "Data columns (total 10 columns):\n",
      " #   Column       Non-Null Count   Dtype         \n",
      "---  ------       --------------   -----         \n",
      " 0   InvoiceNo    401604 non-null  object        \n",
      " 1   StockCode    401604 non-null  object        \n",
      " 2   Description  401604 non-null  object        \n",
      " 3   Quantity     401604 non-null  int64         \n",
      " 4   InvoiceDate  401604 non-null  datetime64[ns]\n",
      " 5   UnitPrice    401604 non-null  float64       \n",
      " 6   CustomerID   401604 non-null  float64       \n",
      " 7   Country      401604 non-null  object        \n",
      " 8   Continent    401604 non-null  object        \n",
      " 9   TotalSales   401604 non-null  float64       \n",
      "dtypes: datetime64[ns](1), float64(3), int64(1), object(5)\n",
      "memory usage: 33.7+ MB\n",
      "None\n"
     ]
    }
   ],
   "source": [
    "# total sales - new variable TotalSales\n",
    "df[\"TotalSales\"] = df[\"Quantity\"] * df[\"UnitPrice\"]\n",
    "print(df[\"TotalSales\"].head()) # unit : sterling\n",
    "print(df.info())"
   ]
  },
  {
   "cell_type": "code",
   "execution_count": null,
   "id": "eca27a3e",
   "metadata": {},
   "outputs": [
    {
     "data": {
      "image/png": "[encoded data removed]",
      "text/plain": [
       "<Figure size 1000x600 with 1 Axes>"
      ]
     },
     "metadata": {},
     "output_type": "display_data"
    },
    {
     "data": {
      "image/png": "[encoded data removed]",
      "text/plain": [
       "<Figure size 1000x600 with 1 Axes>"
      ]
     },
     "metadata": {},
     "output_type": "display_data"
    },
    {
     "data": {
      "image/png": "[encoded data removed]",
      "text/plain": [
       "<Figure size 1000x600 with 1 Axes>"
      ]
     },
     "metadata": {},
     "output_type": "display_data"
    },
    {
     "data": {
      "image/png": "[encoded data removed]",
      "text/plain": [
       "<Figure size 1000x600 with 1 Axes>"
      ]
     },
     "metadata": {},
     "output_type": "display_data"
    }
   ],
   "source": [
    "# checking for outliers - general\n",
    "for col in df.columns:\n",
    "    if df[col].dtype in [np.int64, np.float64]: \n",
    "        plt.figure(figsize = (10, 6))\n",
    "        plt.boxplot(df[col])\n",
    "        plt.title(f\"Boxplot of the variable {col}\")"
   ]
  },
  {
   "cell_type": "code",
   "execution_count": null,
   "id": "3b21a872",
   "metadata": {},
   "outputs": [
    {
     "name": "stdout",
     "output_type": "stream",
     "text": [
      "count    401604.000000\n",
      "mean          3.474064\n",
      "std          69.764035\n",
      "min           0.000000\n",
      "25%           1.250000\n",
      "50%           1.950000\n",
      "75%           3.750000\n",
      "max       38970.000000\n",
      "Name: UnitPrice, dtype: float64\n",
      "       InvoiceNo StockCode                          Description  Quantity  \\\n",
      "9302      537197     22841         ROUND CAKE TIN VINTAGE GREEN         1   \n",
      "33576     539263     22580         ADVENT CALENDAR GINGHAM SACK         4   \n",
      "40089     539722     22423             REGENCY CAKESTAND 3 TIER        10   \n",
      "47068     540372     22090              PAPER BUNTING RETROSPOT        24   \n",
      "47070     540372     22553               PLASTERS IN TIN SKULLS        24   \n",
      "56674     541109     22168        ORGANISER WOOD ANTIQUE WHITE          1   \n",
      "86789     543599    84535B         FAIRY CAKES NOTEBOOK A6 SIZE        16   \n",
      "130188    547417     22062  CERAMIC BOWL WITH LOVE HEART DESIGN        36   \n",
      "139453    548318     22055   MINI CAKE STAND  HANGING STRAWBERY         5   \n",
      "145208    548871     22162          HEART GARLAND RUSTIC PADDED         2   \n",
      "157042    550188     22636   CHILDS BREAKFAST SET CIRCUS PARADE         1   \n",
      "187613    553000     47566                        PARTY BUNTING         4   \n",
      "198383    554037     22619            SET OF 6 SOLDIER SKITTLES        80   \n",
      "279324    561284     22167           OVAL WALL MIRROR DIAMANTE          1   \n",
      "282912    561669     22960             JAM MAKING SET WITH JARS        11   \n",
      "285657    561916         M                               Manual         1   \n",
      "298054    562973     23157           SET OF 6 NATIVITY MAGNETS        240   \n",
      "314745    564651     23270     SET OF 2 CERAMIC PAINTED HEARTS         96   \n",
      "314746    564651     23268  SET OF 2 CERAMIC CHRISTMAS REINDEER       192   \n",
      "314747    564651     22955             36 FOIL STAR CAKE CASES        144   \n",
      "314748    564651     21786                   POLKADOT RAIN HAT        144   \n",
      "358655    568158      PADS           PADS TO MATCH ALL CUSHIONS         1   \n",
      "361825    568384         M                               Manual         1   \n",
      "379913    569716     22778                   GLASS CLOCHE SMALL         2   \n",
      "395529    571035         M                               Manual         1   \n",
      "420404    572893     21208          PASTEL COLOUR HONEYCOMB FAN         5   \n",
      "436428    574138     23234        BISCUIT TIN VINTAGE CHRISTMAS       216   \n",
      "436597    574175     22065       CHRISTMAS PUDDING TRINKET POT         12   \n",
      "436961    574252         M                               Manual         1   \n",
      "439361    574469     22385            JUMBO BAG SPACEBOY DESIGN        12   \n",
      "446125    574879     22625                   RED KITCHEN SCALES         2   \n",
      "446793    574920     22899         CHILDREN'S APRON DOLLY GIRL          1   \n",
      "446794    574920     23480       MINI LIGHTS WOODLAND MUSHROOMS         1   \n",
      "454463    575579     22437        SET OF 9 BLACK SKULL BALLOONS        20   \n",
      "454464    575579     22089        PAPER BUNTING VINTAGE PAISLEY        24   \n",
      "479079    577129     22464          HANGING METAL HEART LANTERN         4   \n",
      "479546    577168         M                               Manual         1   \n",
      "480649    577314     23407       SET OF 2 TRAYS HOME SWEET HOME         2   \n",
      "485985    577696         M                               Manual         1   \n",
      "502122    578841     84826       ASSTD DESIGN 3D PAPER STICKERS     12540   \n",
      "\n",
      "               InvoiceDate  UnitPrice  CustomerID         Country Continent  \\\n",
      "9302   2010-12-05 14:02:00        0.0     12647.0         Germany    Europe   \n",
      "33576  2010-12-16 14:36:00        0.0     16560.0  United Kingdom    Europe   \n",
      "40089  2010-12-21 13:45:00        0.0     14911.0            EIRE    Europe   \n",
      "47068  2011-01-06 16:41:00        0.0     13081.0  United Kingdom    Europe   \n",
      "47070  2011-01-06 16:41:00        0.0     13081.0  United Kingdom    Europe   \n",
      "56674  2011-01-13 15:10:00        0.0     15107.0  United Kingdom    Europe   \n",
      "86789  2011-02-10 13:08:00        0.0     17560.0  United Kingdom    Europe   \n",
      "130188 2011-03-23 10:25:00        0.0     13239.0  United Kingdom    Europe   \n",
      "139453 2011-03-30 12:45:00        0.0     13113.0  United Kingdom    Europe   \n",
      "145208 2011-04-04 14:42:00        0.0     14410.0  United Kingdom    Europe   \n",
      "157042 2011-04-14 18:57:00        0.0     12457.0     Switzerland    Europe   \n",
      "187613 2011-05-12 15:21:00        0.0     17667.0  United Kingdom    Europe   \n",
      "198383 2011-05-20 14:13:00        0.0     12415.0       Australia   Oceania   \n",
      "279324 2011-07-26 12:24:00        0.0     16818.0  United Kingdom    Europe   \n",
      "282912 2011-07-28 17:09:00        0.0     12507.0           Spain    Europe   \n",
      "285657 2011-08-01 11:44:00        0.0     15581.0  United Kingdom    Europe   \n",
      "298054 2011-08-11 11:42:00        0.0     14911.0            EIRE    Europe   \n",
      "314745 2011-08-26 14:19:00        0.0     14646.0     Netherlands    Europe   \n",
      "314746 2011-08-26 14:19:00        0.0     14646.0     Netherlands    Europe   \n",
      "314747 2011-08-26 14:19:00        0.0     14646.0     Netherlands    Europe   \n",
      "314748 2011-08-26 14:19:00        0.0     14646.0     Netherlands    Europe   \n",
      "358655 2011-09-25 12:22:00        0.0     16133.0  United Kingdom    Europe   \n",
      "361825 2011-09-27 09:46:00        0.0     12748.0  United Kingdom    Europe   \n",
      "379913 2011-10-06 08:17:00        0.0     15804.0  United Kingdom    Europe   \n",
      "395529 2011-10-13 12:50:00        0.0     12446.0             RSA    Africa   \n",
      "420404 2011-10-26 14:36:00        0.0     18059.0  United Kingdom    Europe   \n",
      "436428 2011-11-03 11:26:00        0.0     12415.0       Australia   Oceania   \n",
      "436597 2011-11-03 11:47:00        0.0     14110.0  United Kingdom    Europe   \n",
      "436961 2011-11-03 13:24:00        0.0     12437.0          France    Europe   \n",
      "439361 2011-11-04 11:55:00        0.0     12431.0       Australia   Oceania   \n",
      "446125 2011-11-07 13:22:00        0.0     13014.0  United Kingdom    Europe   \n",
      "446793 2011-11-07 16:34:00        0.0     13985.0  United Kingdom    Europe   \n",
      "446794 2011-11-07 16:34:00        0.0     13985.0  United Kingdom    Europe   \n",
      "454463 2011-11-10 11:49:00        0.0     13081.0  United Kingdom    Europe   \n",
      "454464 2011-11-10 11:49:00        0.0     13081.0  United Kingdom    Europe   \n",
      "479079 2011-11-17 19:52:00        0.0     15602.0  United Kingdom    Europe   \n",
      "479546 2011-11-18 10:42:00        0.0     12603.0         Germany    Europe   \n",
      "480649 2011-11-18 13:23:00        0.0     12444.0          Norway    Europe   \n",
      "485985 2011-11-21 11:57:00        0.0     16406.0  United Kingdom    Europe   \n",
      "502122 2011-11-25 15:57:00        0.0     13256.0  United Kingdom    Europe   \n",
      "\n",
      "        TotalSales  \n",
      "9302           0.0  \n",
      "33576          0.0  \n",
      "40089          0.0  \n",
      "47068          0.0  \n",
      "47070          0.0  \n",
      "56674          0.0  \n",
      "86789          0.0  \n",
      "130188         0.0  \n",
      "139453         0.0  \n",
      "145208         0.0  \n",
      "157042         0.0  \n",
      "187613         0.0  \n",
      "198383         0.0  \n",
      "279324         0.0  \n",
      "282912         0.0  \n",
      "285657         0.0  \n",
      "298054         0.0  \n",
      "314745         0.0  \n",
      "314746         0.0  \n",
      "314747         0.0  \n",
      "314748         0.0  \n",
      "358655         0.0  \n",
      "361825         0.0  \n",
      "379913         0.0  \n",
      "395529         0.0  \n",
      "420404         0.0  \n",
      "436428         0.0  \n",
      "436597         0.0  \n",
      "436961         0.0  \n",
      "439361         0.0  \n",
      "446125         0.0  \n",
      "446793         0.0  \n",
      "446794         0.0  \n",
      "454463         0.0  \n",
      "454464         0.0  \n",
      "479079         0.0  \n",
      "479546         0.0  \n",
      "480649         0.0  \n",
      "485985         0.0  \n",
      "502122         0.0  \n",
      "Number of items with a price equal to 0 : 40\n"
     ]
    }
   ],
   "source": [
    "# outliers - UnitPrice\n",
    "print(df[\"UnitPrice\"].describe())\n",
    "print(df[df[\"UnitPrice\"] == 0]) # preview\n",
    "print(f\"Number of items with a price equal to 0 : {len(df[df['UnitPrice'] == 0])}\")"
   ]
  },
  {
   "cell_type": "markdown",
   "id": "83550dc1",
   "metadata": {},
   "source": [
    "Having a price equal to 0 is not common in e-commerce. These prices of 0 must refer to a promotion or a sample given for free. Since there are only 40 customers who received items given for free, those will be removed from the dataset. "
   ]
  },
  {
   "cell_type": "code",
   "execution_count": 56,
   "id": "326c5be9",
   "metadata": {},
   "outputs": [
    {
     "name": "stdout",
     "output_type": "stream",
     "text": [
      "New number of records after removing prices = 0 : 401564\n"
     ]
    }
   ],
   "source": [
    "# removing prices = 0\n",
    "df = df[df[\"UnitPrice\"] != 0]\n",
    "print(f\"New number of records after removing prices = 0 : {len(df)}\")"
   ]
  },
  {
   "cell_type": "code",
   "execution_count": null,
   "id": "72ab8c82",
   "metadata": {},
   "outputs": [
    {
     "name": "stdout",
     "output_type": "stream",
     "text": [
      "count    401564.000000\n",
      "mean          3.474410\n",
      "std          69.767501\n",
      "min           0.001000\n",
      "25%           1.250000\n",
      "50%           1.950000\n",
      "75%           3.750000\n",
      "max       38970.000000\n",
      "Name: UnitPrice, dtype: float64\n",
      "88862\n",
      "401564\n"
     ]
    }
   ],
   "source": [
    "# extreme prices - UnitPrice > 3.75\n",
    "print(df[\"UnitPrice\"].describe())\n",
    "print(len(df[df[\"UnitPrice\"] > 3.75]))\n",
    "print(len(df)) # 22% of the prices are greater than 3.75\n",
    "##################################################################\n"
   ]
  }
 ],
 "metadata": {
  "kernelspec": {
   "display_name": "base",
   "language": "python",
   "name": "python3"
  },
  "language_info": {
   "codemirror_mode": {
    "name": "ipython",
    "version": 3
   },
   "file_extension": ".py",
   "mimetype": "text/x-python",
   "name": "python",
   "nbconvert_exporter": "python",
   "pygments_lexer": "ipython3",
   "version": "3.11.7"
  }
 },
 "nbformat": 4,
 "nbformat_minor": 5
}
